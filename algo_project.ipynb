{
 "cells": [
  {
   "cell_type": "code",
   "execution_count": 1,
   "metadata": {},
   "outputs": [],
   "source": [
    "#Import necessary modules.\n",
    "from alpha_vantage.timeseries import TimeSeries\n",
    "import pandas"
   ]
  },
  {
   "cell_type": "code",
   "execution_count": 2,
   "metadata": {},
   "outputs": [],
   "source": [
    "class ScriptData:\n",
    "    list_of_tickers = []\n",
    "\n",
    "    def __init__(self):\n",
    "        self.api_key = \"QIFV2AZUGKAUQA96\"\n",
    "\n",
    "    def __getitem__(self, script):\n",
    "        self.__setitem__(script)\n",
    "        df = self.convert_intraday_data(script)\n",
    "        return df\n",
    "\n",
    "    def __setitem__(self, script):\n",
    "        self.list_of_tickers.append(script)\n",
    "        return self.list_of_tickers\n",
    "\n",
    "    def __contains__(self, script):\n",
    "        if script in self.list_of_tickers:\n",
    "            return True\n",
    "        else:\n",
    "            return False\n",
    "\n",
    "    def fetch_intraday_data(self, script):\n",
    "        ts = TimeSeries(self.api_key)\n",
    "        data = ts.get_intraday(script, interval=\"60min\", outputsize=\"full\")\n",
    "        return data\n",
    "\n",
    "    def convert_intraday_data(self, script):\n",
    "        data = self.fetch_intraday_data(script)\n",
    "        final_data = list(data)\n",
    "        final_data.pop()\n",
    "        index_list = []\n",
    "        column_list = []\n",
    "        row_list = []\n",
    "        #Converting the tuples fetched to appropriate data for further usage by converting it to data which has appropriate usable values\n",
    "        for i in final_data:\n",
    "            for j, k in i.items():\n",
    "                row_element_list = []\n",
    "                for key, value in k.items():\n",
    "                    row_element_list.append(float(value))\n",
    "                    if len(column_list) >= 5:\n",
    "                        pass\n",
    "                    else:\n",
    "                        column_list.append(key)\n",
    "                row_list.append(row_element_list)\n",
    "                index_list.append(j)\n",
    "\n",
    "        df = pandas.DataFrame(row_list, index=index_list, columns=column_list)\n",
    "        return df\n",
    "\n",
    "\n",
    "script_data = ScriptData()"
   ]
  },
  {
   "cell_type": "code",
   "execution_count": 3,
   "metadata": {},
   "outputs": [
    {
     "data": {
      "text/plain": "                     1. open  2. high   3. low  4. close  5. volume\n2022-12-23 20:00:00    89.09    89.19  89.0500     89.05     4048.0\n2022-12-23 19:00:00    89.02    89.09  89.0200     89.09     3848.0\n2022-12-23 18:00:00    89.08    89.12  89.0100     89.01    11113.0\n2022-12-23 17:00:00    89.23    89.23  89.0000     89.04   526797.0\n2022-12-23 16:00:00    89.40    89.49  88.9725     89.21  3917908.0\n...                      ...      ...      ...       ...        ...\n2022-10-31 09:00:00    95.35    96.29  95.1000     95.24    97183.0\n2022-10-31 08:00:00    95.33    95.59  95.3300     95.41    24574.0\n2022-10-31 07:00:00    95.42    95.42  94.9700     95.28    25432.0\n2022-10-31 06:00:00    95.45    95.46  95.3000     95.45     3656.0\n2022-10-31 05:00:00    96.35    96.45  95.2900     95.41    20429.0\n\n[617 rows x 5 columns]",
      "text/html": "<div>\n<style scoped>\n    .dataframe tbody tr th:only-of-type {\n        vertical-align: middle;\n    }\n\n    .dataframe tbody tr th {\n        vertical-align: top;\n    }\n\n    .dataframe thead th {\n        text-align: right;\n    }\n</style>\n<table border=\"1\" class=\"dataframe\">\n  <thead>\n    <tr style=\"text-align: right;\">\n      <th></th>\n      <th>1. open</th>\n      <th>2. high</th>\n      <th>3. low</th>\n      <th>4. close</th>\n      <th>5. volume</th>\n    </tr>\n  </thead>\n  <tbody>\n    <tr>\n      <th>2022-12-23 20:00:00</th>\n      <td>89.09</td>\n      <td>89.19</td>\n      <td>89.0500</td>\n      <td>89.05</td>\n      <td>4048.0</td>\n    </tr>\n    <tr>\n      <th>2022-12-23 19:00:00</th>\n      <td>89.02</td>\n      <td>89.09</td>\n      <td>89.0200</td>\n      <td>89.09</td>\n      <td>3848.0</td>\n    </tr>\n    <tr>\n      <th>2022-12-23 18:00:00</th>\n      <td>89.08</td>\n      <td>89.12</td>\n      <td>89.0100</td>\n      <td>89.01</td>\n      <td>11113.0</td>\n    </tr>\n    <tr>\n      <th>2022-12-23 17:00:00</th>\n      <td>89.23</td>\n      <td>89.23</td>\n      <td>89.0000</td>\n      <td>89.04</td>\n      <td>526797.0</td>\n    </tr>\n    <tr>\n      <th>2022-12-23 16:00:00</th>\n      <td>89.40</td>\n      <td>89.49</td>\n      <td>88.9725</td>\n      <td>89.21</td>\n      <td>3917908.0</td>\n    </tr>\n    <tr>\n      <th>...</th>\n      <td>...</td>\n      <td>...</td>\n      <td>...</td>\n      <td>...</td>\n      <td>...</td>\n    </tr>\n    <tr>\n      <th>2022-10-31 09:00:00</th>\n      <td>95.35</td>\n      <td>96.29</td>\n      <td>95.1000</td>\n      <td>95.24</td>\n      <td>97183.0</td>\n    </tr>\n    <tr>\n      <th>2022-10-31 08:00:00</th>\n      <td>95.33</td>\n      <td>95.59</td>\n      <td>95.3300</td>\n      <td>95.41</td>\n      <td>24574.0</td>\n    </tr>\n    <tr>\n      <th>2022-10-31 07:00:00</th>\n      <td>95.42</td>\n      <td>95.42</td>\n      <td>94.9700</td>\n      <td>95.28</td>\n      <td>25432.0</td>\n    </tr>\n    <tr>\n      <th>2022-10-31 06:00:00</th>\n      <td>95.45</td>\n      <td>95.46</td>\n      <td>95.3000</td>\n      <td>95.45</td>\n      <td>3656.0</td>\n    </tr>\n    <tr>\n      <th>2022-10-31 05:00:00</th>\n      <td>96.35</td>\n      <td>96.45</td>\n      <td>95.2900</td>\n      <td>95.41</td>\n      <td>20429.0</td>\n    </tr>\n  </tbody>\n</table>\n<p>617 rows × 5 columns</p>\n</div>"
     },
     "execution_count": 3,
     "metadata": {},
     "output_type": "execute_result"
    }
   ],
   "source": [
    "script_data.fetch_intraday_data(\"GOOGL\")\n",
    "script_data.convert_intraday_data(\"GOOGL\")\n",
    "script_data[\"GOOGL\"]"
   ]
  },
  {
   "cell_type": "code",
   "execution_count": 4,
   "metadata": {},
   "outputs": [
    {
     "data": {
      "text/plain": "                      1. open   2. high    3. low  4. close  5. volume\n2022-12-23 20:00:00  131.7500  131.7500  131.6500  131.6500    25134.0\n2022-12-23 19:00:00  131.7700  131.7800  131.7100  131.7400    16826.0\n2022-12-23 18:00:00  131.7500  131.7900  131.7100  131.7800    34486.0\n2022-12-23 17:00:00  131.8600  131.9900  131.5900  131.7500  1160991.0\n2022-12-23 16:00:00  131.7189  131.9990  131.2000  131.8600  9403398.0\n...                       ...       ...       ...       ...        ...\n2022-10-31 09:00:00  154.5253  154.5999  153.0119  153.3410  1031512.0\n2022-10-31 08:00:00  154.4377  154.5674  154.1187  154.1586   204334.0\n2022-10-31 07:00:00  154.3281  154.4776  154.1286  154.3480    48704.0\n2022-10-31 06:00:00  154.2682  154.6471  154.2184  154.3281    54015.0\n2022-10-31 05:00:00  154.5474  155.2055  153.9990  154.2284   128646.0\n\n[619 rows x 5 columns]",
      "text/html": "<div>\n<style scoped>\n    .dataframe tbody tr th:only-of-type {\n        vertical-align: middle;\n    }\n\n    .dataframe tbody tr th {\n        vertical-align: top;\n    }\n\n    .dataframe thead th {\n        text-align: right;\n    }\n</style>\n<table border=\"1\" class=\"dataframe\">\n  <thead>\n    <tr style=\"text-align: right;\">\n      <th></th>\n      <th>1. open</th>\n      <th>2. high</th>\n      <th>3. low</th>\n      <th>4. close</th>\n      <th>5. volume</th>\n    </tr>\n  </thead>\n  <tbody>\n    <tr>\n      <th>2022-12-23 20:00:00</th>\n      <td>131.7500</td>\n      <td>131.7500</td>\n      <td>131.6500</td>\n      <td>131.6500</td>\n      <td>25134.0</td>\n    </tr>\n    <tr>\n      <th>2022-12-23 19:00:00</th>\n      <td>131.7700</td>\n      <td>131.7800</td>\n      <td>131.7100</td>\n      <td>131.7400</td>\n      <td>16826.0</td>\n    </tr>\n    <tr>\n      <th>2022-12-23 18:00:00</th>\n      <td>131.7500</td>\n      <td>131.7900</td>\n      <td>131.7100</td>\n      <td>131.7800</td>\n      <td>34486.0</td>\n    </tr>\n    <tr>\n      <th>2022-12-23 17:00:00</th>\n      <td>131.8600</td>\n      <td>131.9900</td>\n      <td>131.5900</td>\n      <td>131.7500</td>\n      <td>1160991.0</td>\n    </tr>\n    <tr>\n      <th>2022-12-23 16:00:00</th>\n      <td>131.7189</td>\n      <td>131.9990</td>\n      <td>131.2000</td>\n      <td>131.8600</td>\n      <td>9403398.0</td>\n    </tr>\n    <tr>\n      <th>...</th>\n      <td>...</td>\n      <td>...</td>\n      <td>...</td>\n      <td>...</td>\n      <td>...</td>\n    </tr>\n    <tr>\n      <th>2022-10-31 09:00:00</th>\n      <td>154.5253</td>\n      <td>154.5999</td>\n      <td>153.0119</td>\n      <td>153.3410</td>\n      <td>1031512.0</td>\n    </tr>\n    <tr>\n      <th>2022-10-31 08:00:00</th>\n      <td>154.4377</td>\n      <td>154.5674</td>\n      <td>154.1187</td>\n      <td>154.1586</td>\n      <td>204334.0</td>\n    </tr>\n    <tr>\n      <th>2022-10-31 07:00:00</th>\n      <td>154.3281</td>\n      <td>154.4776</td>\n      <td>154.1286</td>\n      <td>154.3480</td>\n      <td>48704.0</td>\n    </tr>\n    <tr>\n      <th>2022-10-31 06:00:00</th>\n      <td>154.2682</td>\n      <td>154.6471</td>\n      <td>154.2184</td>\n      <td>154.3281</td>\n      <td>54015.0</td>\n    </tr>\n    <tr>\n      <th>2022-10-31 05:00:00</th>\n      <td>154.5474</td>\n      <td>155.2055</td>\n      <td>153.9990</td>\n      <td>154.2284</td>\n      <td>128646.0</td>\n    </tr>\n  </tbody>\n</table>\n<p>619 rows × 5 columns</p>\n</div>"
     },
     "execution_count": 4,
     "metadata": {},
     "output_type": "execute_result"
    }
   ],
   "source": [
    "script_data.fetch_intraday_data(\"AAPL\")\n",
    "script_data.convert_intraday_data(\"AAPL\")\n",
    "script_data[\"AAPL\"]"
   ]
  },
  {
   "cell_type": "code",
   "execution_count": 5,
   "metadata": {},
   "outputs": [
    {
     "name": "stdout",
     "output_type": "stream",
     "text": [
      "True\n"
     ]
    }
   ],
   "source": [
    "print(\"GOOGL\" in script_data)"
   ]
  },
  {
   "cell_type": "code",
   "execution_count": 6,
   "metadata": {},
   "outputs": [
    {
     "name": "stdout",
     "output_type": "stream",
     "text": [
      "True\n"
     ]
    }
   ],
   "source": [
    "print(\"AAPL\" in script_data)"
   ]
  },
  {
   "cell_type": "code",
   "execution_count": 7,
   "outputs": [
    {
     "name": "stdout",
     "output_type": "stream",
     "text": [
      "False\n"
     ]
    }
   ],
   "source": [
    "print(\"NVDA\" in script_data)"
   ],
   "metadata": {
    "collapsed": false
   }
  },
  {
   "cell_type": "code",
   "execution_count": 8,
   "outputs": [],
   "source": [
    "def indicator1(df, timeperiod):\n",
    "    indicator_list = []\n",
    "    element_list = []\n",
    "    index_col = []\n",
    "    j = 1\n",
    "    for i in df[df.columns[3]]:\n",
    "        sum = 0\n",
    "        if j < timeperiod:\n",
    "            indicator_list.append(None)\n",
    "            element_list.append(i)\n",
    "        else:\n",
    "            element_list.append(i)\n",
    "            for k in element_list:\n",
    "                l = float(k)\n",
    "                sum += l\n",
    "            avg = sum / timeperiod\n",
    "            indicator_list.append(avg)\n",
    "            del element_list[0]\n",
    "        index_col.append(j)\n",
    "\n",
    "        j += 1\n",
    "\n",
    "    final_df = pandas.DataFrame(indicator_list, index=index_col, columns=[\"indicator\"])\n",
    "    timestamp_column = df.index\n",
    "    final_df.insert(0, \"timestamp\", timestamp_column)\n",
    "\n",
    "    return final_df"
   ],
   "metadata": {
    "collapsed": false
   }
  },
  {
   "cell_type": "code",
   "execution_count": 9,
   "outputs": [
    {
     "data": {
      "text/plain": "               timestamp  indicator\n1    2022-12-23 20:00:00        NaN\n2    2022-12-23 19:00:00        NaN\n3    2022-12-23 18:00:00        NaN\n4    2022-12-23 17:00:00        NaN\n5    2022-12-23 16:00:00     89.080\n..                   ...        ...\n613  2022-10-31 09:00:00     94.692\n614  2022-10-31 08:00:00     94.864\n615  2022-10-31 07:00:00     94.974\n616  2022-10-31 06:00:00     95.191\n617  2022-10-31 05:00:00     95.358\n\n[617 rows x 2 columns]",
      "text/html": "<div>\n<style scoped>\n    .dataframe tbody tr th:only-of-type {\n        vertical-align: middle;\n    }\n\n    .dataframe tbody tr th {\n        vertical-align: top;\n    }\n\n    .dataframe thead th {\n        text-align: right;\n    }\n</style>\n<table border=\"1\" class=\"dataframe\">\n  <thead>\n    <tr style=\"text-align: right;\">\n      <th></th>\n      <th>timestamp</th>\n      <th>indicator</th>\n    </tr>\n  </thead>\n  <tbody>\n    <tr>\n      <th>1</th>\n      <td>2022-12-23 20:00:00</td>\n      <td>NaN</td>\n    </tr>\n    <tr>\n      <th>2</th>\n      <td>2022-12-23 19:00:00</td>\n      <td>NaN</td>\n    </tr>\n    <tr>\n      <th>3</th>\n      <td>2022-12-23 18:00:00</td>\n      <td>NaN</td>\n    </tr>\n    <tr>\n      <th>4</th>\n      <td>2022-12-23 17:00:00</td>\n      <td>NaN</td>\n    </tr>\n    <tr>\n      <th>5</th>\n      <td>2022-12-23 16:00:00</td>\n      <td>89.080</td>\n    </tr>\n    <tr>\n      <th>...</th>\n      <td>...</td>\n      <td>...</td>\n    </tr>\n    <tr>\n      <th>613</th>\n      <td>2022-10-31 09:00:00</td>\n      <td>94.692</td>\n    </tr>\n    <tr>\n      <th>614</th>\n      <td>2022-10-31 08:00:00</td>\n      <td>94.864</td>\n    </tr>\n    <tr>\n      <th>615</th>\n      <td>2022-10-31 07:00:00</td>\n      <td>94.974</td>\n    </tr>\n    <tr>\n      <th>616</th>\n      <td>2022-10-31 06:00:00</td>\n      <td>95.191</td>\n    </tr>\n    <tr>\n      <th>617</th>\n      <td>2022-10-31 05:00:00</td>\n      <td>95.358</td>\n    </tr>\n  </tbody>\n</table>\n<p>617 rows × 2 columns</p>\n</div>"
     },
     "execution_count": 9,
     "metadata": {},
     "output_type": "execute_result"
    }
   ],
   "source": [
    "indicator1(script_data[\"GOOGL\"], timeperiod=5)"
   ],
   "metadata": {
    "collapsed": false
   }
  },
  {
   "cell_type": "code",
   "execution_count": 10,
   "outputs": [],
   "source": [
    "class Strategy:\n",
    "    def __init__(self, ticker):\n",
    "        self.ticker = ticker\n",
    "\n",
    "    def get_script_data(self):\n",
    "        df = script_data[self.ticker]\n",
    "        df1 = indicator1(script_data[self.ticker], timeperiod=2)\n",
    "        return df, df1\n",
    "\n",
    "    def get_signals(self):\n",
    "        df, df1 = self.get_script_data()\n",
    "        #Setting up data for further implementation\n",
    "\n",
    "        close_data = df.iloc[:, 3]\n",
    "        indicator_data = df1.iloc[:, 1]\n",
    "        close_dict = close_data.to_dict()\n",
    "        close_list = list(close_dict.values())\n",
    "        close_timestamp_list = list(close_dict.keys())\n",
    "        indicator_dict = indicator_data.to_dict()\n",
    "        indicator_list = list(indicator_dict.values())\n",
    "        similar_data = []\n",
    "        similar_data_timestamp = []\n",
    "        signal = []\n",
    "        length_of_similar_data_list = 0\n",
    "        i = 0\n",
    "        #Generating list of timestamp and prices where close_data and indicator_data where similar\n",
    "        while i < len(indicator_list):\n",
    "            j = 0\n",
    "            list_for_avg_elements = []\n",
    "            length_of_similar_data_list = len(similar_data)\n",
    "            while j <= i:\n",
    "                list_for_avg_elements.append(close_list[j])\n",
    "                if indicator_list[i] == close_list[j]:\n",
    "                    similar_data.append(close_list[j])\n",
    "                    similar_data_timestamp.append(close_timestamp_list[j])\n",
    "                j += 1\n",
    "            avg = sum(list_for_avg_elements) / len(list_for_avg_elements)\n",
    "            #Creating signals based on avg of price till the point of data known\n",
    "            if length_of_similar_data_list < len(similar_data):\n",
    "                counter = length_of_similar_data_list\n",
    "                while counter < len(similar_data):\n",
    "                    if similar_data[counter] >= avg:\n",
    "                        signal.append(\"SELL\")\n",
    "                    elif similar_data[counter] < avg:\n",
    "                        signal.append(\"BUY\")\n",
    "                    counter += 1\n",
    "            i += 1\n",
    "        #Creating signals for converting to data frame where no signals value is also included based upon appropriate timestamp\n",
    "        signal_dict = dict(zip(similar_data, signal))\n",
    "        final_signals = []\n",
    "        for i, j in close_dict.items():\n",
    "            if j in similar_data:\n",
    "                if i in similar_data_timestamp:\n",
    "                    final_signals.append(signal_dict.get(j))\n",
    "                else:\n",
    "                    final_signals.append(\"NO_SIGNAL\")\n",
    "            else:\n",
    "                final_signals.append(\"NO_SIGNAL\")\n",
    "\n",
    "        signal_df = pandas.DataFrame(final_signals, index=close_data.index, columns=[\"signal\"])\n",
    "        final_signals_df = signal_df.loc[signal_df['signal'].isin([\"BUY\", \"SELL\"])]\n",
    "\n",
    "        return final_signals_df"
   ],
   "metadata": {
    "collapsed": false
   }
  },
  {
   "cell_type": "code",
   "execution_count": 11,
   "outputs": [
    {
     "data": {
      "text/plain": "                    signal\n2022-12-21 11:00:00   SELL\n2022-12-14 06:00:00   SELL\n2022-12-08 18:00:00   SELL\n2022-12-08 17:00:00   SELL\n2022-12-07 10:00:00    BUY\n2022-12-07 09:00:00    BUY\n2022-12-02 05:00:00   SELL\n2022-11-30 06:00:00    BUY\n2022-11-30 05:00:00    BUY\n2022-11-28 17:00:00    BUY\n2022-11-21 18:00:00    BUY\n2022-11-21 17:00:00    BUY\n2022-11-18 07:00:00    BUY\n2022-11-17 13:00:00    BUY\n2022-11-17 12:00:00    BUY\n2022-11-14 17:00:00    BUY\n2022-11-09 20:00:00    BUY\n2022-11-04 08:00:00    BUY\n2022-11-01 08:00:00    BUY\n2022-11-01 07:00:00    BUY",
      "text/html": "<div>\n<style scoped>\n    .dataframe tbody tr th:only-of-type {\n        vertical-align: middle;\n    }\n\n    .dataframe tbody tr th {\n        vertical-align: top;\n    }\n\n    .dataframe thead th {\n        text-align: right;\n    }\n</style>\n<table border=\"1\" class=\"dataframe\">\n  <thead>\n    <tr style=\"text-align: right;\">\n      <th></th>\n      <th>signal</th>\n    </tr>\n  </thead>\n  <tbody>\n    <tr>\n      <th>2022-12-21 11:00:00</th>\n      <td>SELL</td>\n    </tr>\n    <tr>\n      <th>2022-12-14 06:00:00</th>\n      <td>SELL</td>\n    </tr>\n    <tr>\n      <th>2022-12-08 18:00:00</th>\n      <td>SELL</td>\n    </tr>\n    <tr>\n      <th>2022-12-08 17:00:00</th>\n      <td>SELL</td>\n    </tr>\n    <tr>\n      <th>2022-12-07 10:00:00</th>\n      <td>BUY</td>\n    </tr>\n    <tr>\n      <th>2022-12-07 09:00:00</th>\n      <td>BUY</td>\n    </tr>\n    <tr>\n      <th>2022-12-02 05:00:00</th>\n      <td>SELL</td>\n    </tr>\n    <tr>\n      <th>2022-11-30 06:00:00</th>\n      <td>BUY</td>\n    </tr>\n    <tr>\n      <th>2022-11-30 05:00:00</th>\n      <td>BUY</td>\n    </tr>\n    <tr>\n      <th>2022-11-28 17:00:00</th>\n      <td>BUY</td>\n    </tr>\n    <tr>\n      <th>2022-11-21 18:00:00</th>\n      <td>BUY</td>\n    </tr>\n    <tr>\n      <th>2022-11-21 17:00:00</th>\n      <td>BUY</td>\n    </tr>\n    <tr>\n      <th>2022-11-18 07:00:00</th>\n      <td>BUY</td>\n    </tr>\n    <tr>\n      <th>2022-11-17 13:00:00</th>\n      <td>BUY</td>\n    </tr>\n    <tr>\n      <th>2022-11-17 12:00:00</th>\n      <td>BUY</td>\n    </tr>\n    <tr>\n      <th>2022-11-14 17:00:00</th>\n      <td>BUY</td>\n    </tr>\n    <tr>\n      <th>2022-11-09 20:00:00</th>\n      <td>BUY</td>\n    </tr>\n    <tr>\n      <th>2022-11-04 08:00:00</th>\n      <td>BUY</td>\n    </tr>\n    <tr>\n      <th>2022-11-01 08:00:00</th>\n      <td>BUY</td>\n    </tr>\n    <tr>\n      <th>2022-11-01 07:00:00</th>\n      <td>BUY</td>\n    </tr>\n  </tbody>\n</table>\n</div>"
     },
     "execution_count": 11,
     "metadata": {},
     "output_type": "execute_result"
    }
   ],
   "source": [
    "strategy = Strategy(\"NVDA\")\n",
    "strategy.get_script_data()\n",
    "strategy.get_signals()"
   ],
   "metadata": {
    "collapsed": false
   }
  }
 ],
 "metadata": {
  "kernelspec": {
   "display_name": "Python 3 (ipykernel)",
   "language": "python",
   "name": "python3"
  },
  "language_info": {
   "codemirror_mode": {
    "name": "ipython",
    "version": 3
   },
   "file_extension": ".py",
   "mimetype": "text/x-python",
   "name": "python",
   "nbconvert_exporter": "python",
   "pygments_lexer": "ipython3",
   "version": "3.11.1"
  }
 },
 "nbformat": 4,
 "nbformat_minor": 1
}
